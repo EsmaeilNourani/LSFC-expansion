{
 "cells": [
  {
   "attachments": {},
   "cell_type": "markdown",
   "metadata": {},
   "source": [
    "# IAA Summary"
   ]
  },
  {
   "attachments": {},
   "cell_type": "markdown",
   "metadata": {},
   "source": [
    "* 200 asbtracts selected\n",
    "* 95 used for IAA\n",
    "    * 1 st Round:\n",
    "        * precision 66.89% (99/148) recall 66.89% (101/151) F 66.89%\n",
    "        * 15 common + 15 different each ==> in total 45 abstracts\n",
    "    * 2 nd Round:\n",
    "        * precision 67.03% (122/182) recall 78.95% (120/152) F 72.50%\n",
    "        * 15 common + 5 different each ==> in total 25 abstracts\n",
    "    * 3 rd Round:\n",
    "        * precision 90.85% (139/153) recall 77.14% (135/175) F 83.44%\n",
    "        * 15 common + 5 different each ==> in total 25 abstracts\n",
    "\n",
    "* 105 left for normal annotation \n",
    "* 95 IAA documents corrected using final annotations"
   ]
  },
  {
   "attachments": {},
   "cell_type": "markdown",
   "metadata": {},
   "source": [
    "### Run script to calculate IAA metrics"
   ]
  },
  {
   "cell_type": "markdown",
   "metadata": {},
   "source": [
    "* give execute permission\n",
    "    * ! chmod 755  ../../utils/IAA.py"
   ]
  },
  {
   "attachments": {},
   "cell_type": "markdown",
   "metadata": {},
   "source": [
    "* How to Run\n",
    "    * python2 ../../utils/IAA.py directory_with_gold directory_with_test --overlap\n"
   ]
  },
  {
   "attachments": {},
   "cell_type": "markdown",
   "metadata": {},
   "source": [
    "* Copy brat configuration files to every folder for annotation in the target server"
   ]
  }
 ],
 "metadata": {
  "kernelspec": {
   "display_name": "lsf",
   "language": "python",
   "name": "python3"
  },
  "language_info": {
   "codemirror_mode": {
    "name": "ipython",
    "version": 3
   },
   "file_extension": ".py",
   "mimetype": "text/x-python",
   "name": "python",
   "nbconvert_exporter": "python",
   "pygments_lexer": "ipython3",
   "version": "3.8.13"
  },
  "orig_nbformat": 4,
  "vscode": {
   "interpreter": {
    "hash": "34bb0a12f45374e1ebc4afaa256c35b6fb6d871753da48daf29946e26ae0123c"
   }
  }
 },
 "nbformat": 4,
 "nbformat_minor": 2
}
