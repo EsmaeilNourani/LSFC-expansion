{
 "cells": [
  {
   "cell_type": "markdown",
   "id": "3b5536ba",
   "metadata": {},
   "source": [
    "# Select 200 abstracts for benchmarking the NER "
   ]
  },
  {
   "cell_type": "markdown",
   "id": "47bb9d7c",
   "metadata": {},
   "source": [
    "### Server Part (Done on Computerome)"
   ]
  },
  {
   "attachments": {},
   "cell_type": "markdown",
   "id": "ab427a8b",
   "metadata": {},
   "source": [
    "0. Copy Required scripts for Tagger\n",
    "1. Prepare reuired input files for tagger\n",
    "2. run tagger\n",
    "3. Generate Abstracts and PMID to Journal mapper\n",
    "3. Process Tagger Output\n",
    "\n",
    "    1. pmid_to_journal_processed.tsv \n",
    "        * map PMID to corresponding journal  example: pmid_to_journal_dict[18086704]==> 'Nucleic Acids Res' \n",
    "    2. pmid_to_wordcount \n",
    "        * abstract size(word count) per pmid\n",
    "    3. LSF_count_per_journal_per_category.tsv\n",
    "        * create two dimensional dict to store LSF count per journal for every category \n",
    "        * example: LSF_count_per_journal_per_category['Beauty and Cleaning']['Nucleic Acids Res']"
   ]
  },
  {
   "cell_type": "code",
   "execution_count": 15,
   "id": "3f1dd253",
   "metadata": {},
   "outputs": [],
   "source": [
    "import random\n",
    "from collections import defaultdict\n",
    "import pandas as pd"
   ]
  },
  {
   "cell_type": "code",
   "execution_count": null,
   "id": "0a54c106",
   "metadata": {},
   "outputs": [],
   "source": []
  },
  {
   "cell_type": "code",
   "execution_count": 2,
   "id": "3bfb2b6c",
   "metadata": {},
   "outputs": [
    {
     "data": {
      "text/html": [
       "<div>\n",
       "<style scoped>\n",
       "    .dataframe tbody tr th:only-of-type {\n",
       "        vertical-align: middle;\n",
       "    }\n",
       "\n",
       "    .dataframe tbody tr th {\n",
       "        vertical-align: top;\n",
       "    }\n",
       "\n",
       "    .dataframe thead th {\n",
       "        text-align: right;\n",
       "    }\n",
       "</style>\n",
       "<table border=\"1\" class=\"dataframe\">\n",
       "  <thead>\n",
       "    <tr style=\"text-align: right;\">\n",
       "      <th></th>\n",
       "      <th>pmid</th>\n",
       "      <th>journal</th>\n",
       "    </tr>\n",
       "  </thead>\n",
       "  <tbody>\n",
       "    <tr>\n",
       "      <th>0</th>\n",
       "      <td>16923182</td>\n",
       "      <td>Reprod Biol Endocrinol</td>\n",
       "    </tr>\n",
       "    <tr>\n",
       "      <th>1</th>\n",
       "      <td>12086586</td>\n",
       "      <td>BMC Blood Disord</td>\n",
       "    </tr>\n",
       "    <tr>\n",
       "      <th>2</th>\n",
       "      <td>16606691</td>\n",
       "      <td>J Cell Biol</td>\n",
       "    </tr>\n",
       "    <tr>\n",
       "      <th>3</th>\n",
       "      <td>18086704</td>\n",
       "      <td>Nucleic Acids Res</td>\n",
       "    </tr>\n",
       "    <tr>\n",
       "      <th>4</th>\n",
       "      <td>18710930</td>\n",
       "      <td>J Exp Med</td>\n",
       "    </tr>\n",
       "  </tbody>\n",
       "</table>\n",
       "</div>"
      ],
      "text/plain": [
       "       pmid                 journal\n",
       "0  16923182  Reprod Biol Endocrinol\n",
       "1  12086586        BMC Blood Disord\n",
       "2  16606691             J Cell Biol\n",
       "3  18086704       Nucleic Acids Res\n",
       "4  18710930               J Exp Med"
      ]
     },
     "execution_count": 2,
     "metadata": {},
     "output_type": "execute_result"
    }
   ],
   "source": [
    "# download pmid_to_journal_processed.tsv file from Zenodo project\n",
    "#file_path='/Users/dzq660/LOCAL/ZenodoProjects/LSF/NER-Benchmarking/pmid_to_journal_processed.tsv.gz'\n",
    "file_path='../../data/NER-Benchmarking/pmid_to_journal_processed.tsv.gz'\n",
    "pmid_to_journal=pd.read_csv(file_path,sep='\\t')\n",
    "\n",
    "pmid_to_journal.head()\n"
   ]
  },
  {
   "cell_type": "code",
   "execution_count": 3,
   "id": "5e853fd1",
   "metadata": {},
   "outputs": [],
   "source": [
    "#pmid for full text articles to be excluded\n",
    "# download pmid_to_journal_processed.tsv file from Zenodo project\n",
    "\n",
    "pmc=pd.read_csv('/Users/dzq660/LOCAL/ZenodoProjects/LSF/NER-Benchmarking/pmcoa_pmids_2022.list.gz',sep='\\t',header=None)\n",
    "pmc.columns=['pmid']\n",
    "pmc_pmids=pmc.pmid.tolist()\n",
    "pmc_pmids=set(pmc_pmids)\n",
    "\n",
    "\n",
    "pmid_to_journal = pmid_to_journal[~pmid_to_journal['pmid'].isin(pmc_pmids)]\n",
    "\n",
    "\n",
    "\n",
    "pmid_to_journal_dict={}\n",
    "for pmid,journal in pmid_to_journal.itertuples(index=False):\n",
    "    pmid_to_journal_dict[pmid]=journal\n"
   ]
  },
  {
   "cell_type": "code",
   "execution_count": 4,
   "id": "096cbd37",
   "metadata": {},
   "outputs": [],
   "source": [
    "# count how many abstracts every journal has example:  abstract_count_per_journal['PLoS One'] ==> 266267\n",
    "counts=pmid_to_journal.iloc[:,1].value_counts()\n",
    "abstract_count_per_journal={}\n",
    "for journal, count in counts.items():\n",
    "        abstract_count_per_journal[journal]=count\n"
   ]
  },
  {
   "cell_type": "code",
   "execution_count": 5,
   "id": "3fa23730",
   "metadata": {},
   "outputs": [],
   "source": [
    "df_LSF_count_per_journal_per_category=pd.read_csv('../../data/NER-Benchmarking/LSF_count_per_journal_per_category.tsv',sep='\\t',index_col=0)\n"
   ]
  },
  {
   "cell_type": "code",
   "execution_count": 6,
   "id": "33024077",
   "metadata": {},
   "outputs": [],
   "source": [
    "# select journal which has at least abstracts over than the treshold count \n",
    "min_abstract_treshold=1000"
   ]
  },
  {
   "cell_type": "code",
   "execution_count": 7,
   "id": "29bb1fe3",
   "metadata": {},
   "outputs": [],
   "source": [
    "journals_to_remove=[]\n",
    "for journal,row in df_LSF_count_per_journal_per_category.iterrows():\n",
    "    try:\n",
    "        if abstract_count_per_journal[journal] < min_abstract_treshold:\n",
    "            journals_to_remove.append(journal)\n",
    "    except:\n",
    "        pass"
   ]
  },
  {
   "cell_type": "code",
   "execution_count": 8,
   "id": "4029f73e",
   "metadata": {},
   "outputs": [],
   "source": [
    "# remove journals with less than treshold abstract count\n",
    "df_LSF_count_per_journal_per_category.drop(journals_to_remove,inplace=True)"
   ]
  },
  {
   "cell_type": "code",
   "execution_count": 9,
   "id": "37923558",
   "metadata": {},
   "outputs": [],
   "source": [
    "# remove rows if journal name is missing\n",
    "df_LSF_count_per_journal_per_category=df_LSF_count_per_journal_per_category.loc[df_LSF_count_per_journal_per_category.index.dropna()]"
   ]
  },
  {
   "cell_type": "code",
   "execution_count": 10,
   "id": "899e1b56",
   "metadata": {},
   "outputs": [],
   "source": [
    "df_LSF_avg_count_per_journal_per_category=df_LSF_count_per_journal_per_category.copy(deep=True)"
   ]
  },
  {
   "cell_type": "code",
   "execution_count": 11,
   "id": "0f0af8e0",
   "metadata": {},
   "outputs": [],
   "source": [
    "for journal,row in df_LSF_count_per_journal_per_category.iterrows():\n",
    "    for category in row.keys():\n",
    "        #compute average per category per journal\n",
    "        try:\n",
    "            df_LSF_avg_count_per_journal_per_category.at[journal,category]= row[category] / abstract_count_per_journal[journal]\n",
    "        except:\n",
    "            pass\n"
   ]
  },
  {
   "cell_type": "code",
   "execution_count": 12,
   "id": "e04898d1",
   "metadata": {},
   "outputs": [],
   "source": [
    "def get_top_journals_per_category(n):\n",
    "    \"\"\"\n",
    "        get_top_journals_per_category\n",
    "    Args:\n",
    "        n (_type_): top n journals which has higher average LSF count per abstract in the target catgeory\n",
    "    \"\"\"\n",
    "    #stores list of top n journal per category\n",
    "    top_n_journals_dict={}\n",
    "    top_n_journals_list=[]\n",
    "    for category in df_LSF_avg_count_per_journal_per_category.columns:\n",
    "        top_n=df_LSF_avg_count_per_journal_per_category.nlargest(n,[category])\n",
    "        top_n_journals_dict[category]=top_n[[category]]\n",
    "        top_n_journals_list.extend(list(top_n_journals_dict[category].index)) # store journal names\n",
    "    return top_n_journals_dict,top_n_journals_list\n",
    "\n"
   ]
  },
  {
   "cell_type": "code",
   "execution_count": 13,
   "id": "f9d66987",
   "metadata": {},
   "outputs": [],
   "source": [
    "top_journals_dict,top_journals_list=get_top_journals_per_category(3)"
   ]
  },
  {
   "cell_type": "code",
   "execution_count": 145,
   "id": "25a784b9",
   "metadata": {},
   "outputs": [
    {
     "data": {
      "text/plain": [
       "{'Beauty and Cleaning':                  Beauty and Cleaning\n",
       " J Dent Hyg                  0.998329\n",
       " J Orthod                    0.996172\n",
       " J Orofac Orthop             0.735552,\n",
       " 'Nutrition':                       Nutrition\n",
       " Plant Foods Hum Nutr   3.061862\n",
       " Eur J Nutr             3.022776\n",
       " Int J Food Sci Nutr    3.016188,\n",
       " 'Drugs':                         Drugs\n",
       " Nicotine Tob Res     2.509218\n",
       " Drug Alcohol Depend  1.553877\n",
       " Tob Control          1.531500,\n",
       " 'Environmental exposures':                          Environmental exposures\n",
       " Environ Int                             1.379979\n",
       " Indoor Air                              1.369270\n",
       " J Air Waste Manag Assoc                 1.350343,\n",
       " 'Non physical leisure time activities':                              Non physical leisure time activities\n",
       " J Gambl Stud                                             1.505271\n",
       " Cyberpsychol Behav Soc Netw                              0.651148\n",
       " J Phys Act Health                                        0.238985,\n",
       " 'Physical activity':                    Physical activity\n",
       " J Phys Act Health           1.339564\n",
       " Sports Med                  1.136964\n",
       " J Aging Phys Act            0.863378,\n",
       " 'Sleep':                   Sleep\n",
       " J Sleep Res    2.326460\n",
       " Sleep          2.044978\n",
       " Sleep Med Rev  1.587920,\n",
       " 'Socioeconomic factors':                                      Socioeconomic factors\n",
       " J Interpers Violence                              2.395419\n",
       " Eur J Contracept Reprod Health Care               2.323056\n",
       " Child Abuse Negl                                  2.169919,\n",
       " 'Mental health practices':                         Mental health practices\n",
       " Psychother Res                         0.938192\n",
       " Int J Group Psychother                 0.715239\n",
       " Am J Psychother                        0.566182}"
      ]
     },
     "execution_count": 145,
     "metadata": {},
     "output_type": "execute_result"
    }
   ],
   "source": [
    "top_journals_dict"
   ]
  },
  {
   "cell_type": "code",
   "execution_count": 16,
   "id": "38402344",
   "metadata": {},
   "outputs": [],
   "source": [
    "journal_to_pmids_dict=defaultdict(list)\n",
    "for pmid in pmid_to_journal_dict:\n",
    "    journal=pmid_to_journal_dict[pmid]\n",
    "    journal_to_pmids_dict[journal].append(pmid)\n"
   ]
  },
  {
   "cell_type": "code",
   "execution_count": 1,
   "id": "60ee4080",
   "metadata": {},
   "outputs": [
    {
     "data": {
      "text/plain": [
       "'../'"
      ]
     },
     "execution_count": 1,
     "metadata": {},
     "output_type": "execute_result"
    }
   ],
   "source": []
  },
  {
   "cell_type": "code",
   "execution_count": 19,
   "id": "7a0abead",
   "metadata": {},
   "outputs": [],
   "source": [
    "#file_path='/Users/dzq660/LOCAL/ZenodoProjects/LSF/NER-Benchmarking/pmid_to_wordcount.tsv.gz'\n",
    "#download from zenodo\n",
    "file_path='../../data/NER-Benchmarking/pmid_to_wordcount.tsv.gz'\n",
    "pmid_to_wordcount=pd.read_csv(file_path,sep='\\t')\n",
    "\n",
    "# this dict will store abstract size(word count) per pmid\n",
    "pmid_to_wordcount_dict={}\n",
    "for pmid,wordcount in pmid_to_wordcount.itertuples(index=False):\n",
    "    pmid_to_wordcount_dict[pmid]=wordcount\n"
   ]
  },
  {
   "cell_type": "code",
   "execution_count": 20,
   "id": "6363d697",
   "metadata": {},
   "outputs": [],
   "source": [
    "def select_pmids_of_selected_journals(top_journals_dict,selection_count=200,min_word_count=100,max_word_count=200):\n",
    "    \"\"\"gets a dict of selected journals for every category and in total how many abstract should be selected\n",
    "       and  return selected PMIDS, this will be evenly divided for all categories and journals except first category and first journal of each catgory which\n",
    "       receives the leftover from division\n",
    "\n",
    "    Args:\n",
    "        top_journals_dict (_type_): _description_\n",
    "        selection_count (int, optional): _description_. Defaults to 200.\n",
    "\n",
    "    Returns:\n",
    "        _type_: _description_\n",
    "    \"\"\"\n",
    "    selected_pmids=[]\n",
    "    \n",
    "    category_count=len(top_journals_dict)\n",
    "    docs_per_category=int(selection_count/category_count)\n",
    "    added_docs=selection_count-docs_per_category*category_count\n",
    "\n",
    "    for i,category in enumerate(top_journals_dict):\n",
    "        if i==0:  # first category gets the leftover\n",
    "            count=docs_per_category+added_docs\n",
    "        else:\n",
    "            count=docs_per_category\n",
    "        \n",
    "        journals=list(top_journals_dict[category].index)\n",
    "        count_per_journal=int(count/len(journals))\n",
    "        added_count_category=count-count_per_journal*len(journals)\n",
    "        for j,journal in enumerate(journals):\n",
    "            if j==0: #first journal gets the leftover\n",
    "                count_selection=count_per_journal+added_count_category\n",
    "            else:\n",
    "                count_selection=count_per_journal\n",
    "            pmids=journal_to_pmids_dict[journal]\n",
    "            if len(pmids) <=count_selection:\n",
    "                print(category, ' , ', journal, len(pmids))\n",
    "            # loop until select required number of abstracts\n",
    "            while count_selection>0:\n",
    "                while True:\n",
    "                    selected_pmid=random.sample(pmids,count_selection)[0]\n",
    "                    pmids.remove(selected_pmid) # to prevent from reselection\n",
    "                    \n",
    "                    if pmid_to_wordcount_dict[selected_pmid] >= min_word_count  and pmid_to_wordcount_dict[selected_pmid] <= max_word_count:\n",
    "                        break  # found the asbtract based on the requested length\n",
    "                count_selection-=1 \n",
    "                selected_pmids.append(selected_pmid)\n",
    "            \n",
    "            \n",
    "    return selected_pmids\n",
    "            \n",
    "\n",
    "\n",
    "        "
   ]
  },
  {
   "cell_type": "code",
   "execution_count": 21,
   "id": "d57a2808",
   "metadata": {},
   "outputs": [],
   "source": [
    "selected_pmids=select_pmids_of_selected_journals(top_journals_dict,selection_count=200,min_word_count=100,max_word_count=200)\n"
   ]
  },
  {
   "cell_type": "code",
   "execution_count": 22,
   "id": "687d1fa7",
   "metadata": {},
   "outputs": [
    {
     "data": {
      "text/plain": [
       "200"
      ]
     },
     "execution_count": 22,
     "metadata": {},
     "output_type": "execute_result"
    }
   ],
   "source": [
    "len(selected_pmids)"
   ]
  },
  {
   "cell_type": "code",
   "execution_count": 152,
   "id": "1975c68f",
   "metadata": {},
   "outputs": [],
   "source": [
    "\n",
    "#first 200 lines are main selected and rest are reserved ones\n",
    "df=pd.DataFrame(selected_pmids,index=None)\n",
    "df.to_csv('../../data/NER-Benchmarking/selected_200_pmids.tsv',sep='\\t',header=False,index=None)\n"
   ]
  }
 ],
 "metadata": {
  "kernelspec": {
   "display_name": "lsf",
   "language": "python",
   "name": "python3"
  },
  "language_info": {
   "codemirror_mode": {
    "name": "ipython",
    "version": 3
   },
   "file_extension": ".py",
   "mimetype": "text/x-python",
   "name": "python",
   "nbconvert_exporter": "python",
   "pygments_lexer": "ipython3",
   "version": "3.8.13"
  },
  "vscode": {
   "interpreter": {
    "hash": "34bb0a12f45374e1ebc4afaa256c35b6fb6d871753da48daf29946e26ae0123c"
   }
  }
 },
 "nbformat": 4,
 "nbformat_minor": 5
}
