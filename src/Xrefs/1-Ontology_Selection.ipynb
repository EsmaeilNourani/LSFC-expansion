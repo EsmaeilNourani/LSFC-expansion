{
 "cells": [
  {
   "cell_type": "markdown",
   "metadata": {},
   "source": [
    "# Search for Ontologies using bioontology Recommender"
   ]
  },
  {
   "cell_type": "markdown",
   "metadata": {},
   "source": [
    "* ref\n",
    "https://data.bioontology.org/documentation#nav_recommender"
   ]
  },
  {
   "cell_type": "markdown",
   "metadata": {},
   "source": [
    "Recommender Tab:\n",
    "The Recommender takes as input a text or a list of keywords and suggests appropriate ontologies for it.\n",
    "\n",
    "The ontology ranking algorithm used by the Recommender evaluates the adequacy of each ontology to the input using a combination of four evaluation criteria:\n",
    "\n",
    "* Coverage: At what extent the ontology represents the input? The Recommender invokes the NCBO Annotator service to obtain all the annotations for the input and then uses those annotations to compute a coverage score for each ontology.\n",
    "* Acceptance: How well-known and trusted is the ontology by the biomedical community? The number of visits to the ontology page in BioPortal and the presence or absence of the ontology in UMLS are used to compute an acceptance score for each ontology.\n",
    "* Detail of knowledge: What is the level of detail provided by the ontology for the input data? It is computed using the number of definitions, synonyms and properties of the ontology classes that cover the input data.\n",
    "* Specialization: How specialized is the ontology to the input data’s domain? It is calculated using the number and type of the annotations done with the ontology and the position of each annotated class in the ontology hierarchy. The result is normalized by the size of the ontology, in order to identify small ontologies that are specialized to the input data."
   ]
  },
  {
   "cell_type": "markdown",
   "metadata": {},
   "source": [
    "* Parameters\n",
    "* input_type={1|2} // default = 1. 1 means that the input type is text. 2 means that the input type is a list of comma separated keywords.\n",
    "* output_type={1|2} // default = 1. 1 means that the output will be a ranked list of individual ontologies. 2 means that the output will be a ranked list of ontology sets.\n",
    "* max_elements_set={2|3|4} // default = 3. Maximum number of ontologies per set (only for output_type = 2).\n",
    "* wc={value in the range [0,1]} // default = 0.55. Weight assigned to the ontology coverage criterion.\n",
    "* wa={value in the range [0,1]} // default = 0.15. Weight assigned to the ontology acceptance criterion.\n",
    "* wd={value in the range [0,1]} // default = 0.15. Weight assigned to the ontology detail criterion.\n",
    "* ws={value in the range [0,1]} // default = 0.15. Weight assigned to the ontology specialization criterion.\n",
    "* ontologies={ontology_id1, ontology_id2, …, ontology_idN} // default = (empty) (all BioPortal ontologies will be evaluated)."
   ]
  },
  {
   "cell_type": "code",
   "execution_count": 7,
   "metadata": {},
   "outputs": [],
   "source": [
    "from pronto import Ontology,xref\n",
    "from collections import defaultdict\n",
    "import pandas as pd\n",
    "import numpy as np\n",
    "from tqdm import tqdm\n",
    "from urllib.parse import quote\n",
    "import urllib.request, urllib.error, urllib.parse\n",
    "import json\n",
    "import os\n",
    "from pprint import pprint\n",
    "import pickle\n",
    "import sys\n",
    "import retrieve_LSFC\n",
    "import importlib\n",
    "\n"
   ]
  },
  {
   "cell_type": "markdown",
   "metadata": {},
   "source": [
    "# Load LSFC \n"
   ]
  },
  {
   "cell_type": "code",
   "execution_count": 8,
   "metadata": {},
   "outputs": [],
   "source": [
    "import warnings\n",
    "warnings.filterwarnings(\"ignore\")\n",
    "module_path = os.path.abspath(os.path.join('../../'))\n",
    "if module_path not in sys.path:\n",
    "    sys.path.append(module_path+\"//utils\")\n",
    "\n",
    "import retrieve_LSFC\n",
    "\n",
    "import importlib\n",
    "# reload if library gets updated\n",
    "importlib.reload(retrieve_LSFC)\n",
    "\n",
    "### Load LSFC \n",
    "\n",
    "LSFC_file='../../LSFC/LSFC.obo'\n",
    "id_to_name,name_to_id,id_to_synonyms,id_2_childs,id_2_parents=retrieve_LSFC.read_LSFC(LSFC_file)\n",
    "# Get names of 9 main LSF catgeories\n",
    "LSF_exisiting_names, LSF_Labels,LFIDs,categories=retrieve_LSFC.generate_lfid_categories_labels(LSFC_file)\n",
    "\n"
   ]
  },
  {
   "cell_type": "markdown",
   "metadata": {},
   "source": [
    "# General functions"
   ]
  },
  {
   "cell_type": "code",
   "execution_count": 9,
   "metadata": {},
   "outputs": [],
   "source": [
    "\n",
    "REST_URL = \"http://data.bioontology.org\"\n",
    "API_KEY = \"017c7a81-885c-43e5-abcf-4071b6ff5373\"\n",
    "\n",
    "\n",
    "def make_query(term):\n",
    "    #term='\"'+term+'\"'\n",
    "    return quote(term)\n",
    "\n",
    "\n",
    "def get_json(url):\n",
    "    opener = urllib.request.build_opener()\n",
    "    opener.addheaders = [('Authorization', 'apikey token=' + API_KEY)]\n",
    "    return json.loads(opener.open(url).read())\n",
    "\n"
   ]
  },
  {
   "cell_type": "markdown",
   "metadata": {},
   "source": [
    "# Produce LSF-Slim\n",
    "* Cover names and synonyms of high level concepts of LSF ontology:\n",
    "    * For all branches select second level concepts except nutrition\n",
    "    * for nutrition branch select second level concepts except 'Micronutrient' and 'Macronutrient' for which thirs level concepts will be selected"
   ]
  },
  {
   "cell_type": "code",
   "execution_count": 16,
   "metadata": {},
   "outputs": [],
   "source": [
    "def LSF_Slim(LSFC_file):\n",
    "    LSFC = Ontology(LSFC_file)\n",
    "    root='LFID:0000000'\n",
    "    #get LSF branches by expanding root\n",
    "    branches=list(LSFC[root].subclasses(1,with_self=False))\n",
    "\n",
    "    high_level_names=[]\n",
    "    for branch in branches:\n",
    "            nodes=list(LSFC[branch.id].subclasses(2,with_self=True))    #add all second level names and synonyms\n",
    "            # add node name and all its synonyms\n",
    "            for node in nodes:\n",
    "                # skip node if it is a leaf node, since it can not be considered as a high level node\n",
    "                if not node.is_leaf():\n",
    "                    high_level_names.append(node.name)\n",
    "                    for syn in node.synonyms: # add synonyms\n",
    "                        high_level_names.append(syn.description) # description is the name of the synonym\n",
    "\n",
    "    return high_level_names\n",
    "\n",
    "high_level_names=LSF_Slim(LSFC_file)"
   ]
  },
  {
   "cell_type": "markdown",
   "metadata": {},
   "source": [
    "\n",
    "\n",
    "# Calling Bioportal Annotator\n",
    "\n"
   ]
  },
  {
   "cell_type": "markdown",
   "metadata": {},
   "source": [
    "* High level name of the LSFC is annotated by all available ontologies"
   ]
  },
  {
   "cell_type": "markdown",
   "metadata": {},
   "source": [
    "* So for every single Ontology we will keep a list of exisiting matched names in 'dict_ontology_to_annotated_names'"
   ]
  },
  {
   "cell_type": "markdown",
   "metadata": {},
   "source": [
    "* Metrics for shortlisting the Ontologies:\n",
    "    * Covergae: what is the percentage of the Lifestyle-slims apeared in the target ontology\n",
    "    * Overlap: what is the pecentage of all names of target ontology appeared in Lifestyle-slims"
   ]
  },
  {
   "cell_type": "code",
   "execution_count": 22,
   "metadata": {},
   "outputs": [
    {
     "name": "stderr",
     "output_type": "stream",
     "text": [
      "509it [15:12,  1.79s/it]\n"
     ]
    }
   ],
   "source": [
    "def annotator(high_level_names):\n",
    "    \"\"\"Annotates high_level_names (LSF slim) with concepts from existing ontologies\n",
    "    Args:\n",
    "        high_level_names (_type_): LSF slim\n",
    "\n",
    "    Returns:\n",
    "        dict: List of annotated names with other existing ontologies\n",
    "    \"\"\"\n",
    "    dict_ontology_to_annotated_names=defaultdict(set)\n",
    "\n",
    "    for i,name in tqdm(enumerate(high_level_names)):\n",
    "        results=get_json('https://data.bioontology.org/search?q=' + make_query(name)+'&pagesize=500&ontologies=&include_properties=TRUE&include_views=TRUE&includeObsolete=TRUE&require_definition=false&exact_match=true&categories=&suggest=TRUE')\n",
    "\n",
    "        for result in results['collection']:\n",
    "            ontology_acronym=result['links']['ontology'].split('https://data.bioontology.org/ontologies/')[1]   \n",
    "            dict_ontology_to_annotated_names[ontology_acronym].add(name)\n",
    "    return dict_ontology_to_annotated_names\n",
    "\n",
    "\n",
    "dict_ontology_to_annotated_names=annotator(high_level_names)\n"
   ]
  },
  {
   "cell_type": "code",
   "execution_count": 39,
   "metadata": {},
   "outputs": [
    {
     "name": "stderr",
     "output_type": "stream",
     "text": [
      "100%|██████████| 313/313 [49:57<00:00,  9.58s/it]\n"
     ]
    }
   ],
   "source": [
    "def add_metric(dict_ontology_to_annotated_names):\n",
    "    \"\"\"Add metrics to onotologies\n",
    "\n",
    "    Args:\n",
    "        dict_ontology_to_annotated_names (dict): _description_\n",
    "\n",
    "    Returns:\n",
    "        dataframe: A dataframe for the annotated ontologies along with their quality metrics\n",
    "    \"\"\"\n",
    "    df_ontology_to_annotated_names=pd.DataFrame(columns=['acronym','ontology_name','acceptance_score','match_count','coverage','names','class_counts','number_of_releases','first_release_year','last_release_year','overlap'])\n",
    "\n",
    "    for ontology in tqdm(dict_ontology_to_annotated_names):\n",
    "        names=list(dict_ontology_to_annotated_names[ontology])\n",
    "        match_count=len(names)\n",
    "        names='#'.join(names)\n",
    "\n",
    "        ontology_name=get_json('http://data.bioontology.org/ontologies/'+ontology)['name']\n",
    "\n",
    "        submissions=get_json('https://data.bioontology.org/ontologies/'+ontology+'/submissions')\n",
    "\n",
    "        number_of_releases=len(submissions)\n",
    "        first_release_year=submissions[-1]['released'].split('-')[0]\n",
    "        last_release_year=submissions[0]['released'].split('-')[0]\n",
    "\n",
    "\n",
    "        coverage=match_count/len(high_level_names)\n",
    "\n",
    "\n",
    "        try:\n",
    "            class_counts=get_json('https://data.bioontology.org/ontologies/'+ontology+'/metrics')['classes']\n",
    "\n",
    "        except:\n",
    "            class_counts=0\n",
    "\n",
    "\n",
    "        try:\n",
    "            # pick up a matching word for this ontology to just get the acceptance score of the ontology using Recommender API\n",
    "            # Acceptance score shows how wellknown and trusted is the ontology in the biomedical community\n",
    "            word=list(dict_ontology_to_annotated_names[ontology])[0]\n",
    "            acceptance_score=get_json('https://data.bioontology.org/recommender?input=' +make_query(word)+ '&ontologies='+ontology)[0]['acceptanceResult']['normalizedScore']\n",
    "        except:\n",
    "            acceptance_score=0\n",
    "\n",
    "\n",
    "\n",
    "        try:\n",
    "            # igonre if class counts are less than 100 \n",
    "            if match_count > class_counts or  class_counts< 100 or  match_count < 5:\n",
    "                #it is a wrong info\n",
    "                overlap=0\n",
    "            else:\n",
    "                overlap=match_count/class_counts\n",
    "                \n",
    "        except:\n",
    "            overlap=0\n",
    "\n",
    "\n",
    "        df_ontology_to_annotated_names=df_ontology_to_annotated_names.append ({'acronym':ontology,'ontology_name':ontology_name,'acceptance_score':acceptance_score,'match_count':match_count,'coverage':coverage,'names':names,'class_counts':class_counts,'number_of_releases':number_of_releases,'first_release_year':first_release_year,'last_release_year':last_release_year,'overlap':overlap},ignore_index=True)\n",
    "\n",
    "    return df_ontology_to_annotated_names\n",
    "\n",
    "\n",
    "\n",
    "df_ontology_to_annotated_names=add_metric(dict_ontology_to_annotated_names)\n",
    "   "
   ]
  },
  {
   "cell_type": "code",
   "execution_count": 43,
   "metadata": {},
   "outputs": [],
   "source": [
    "df_ontology_to_annotated_names.to_csv('../../data/xref/Xrefs_ontology_to_annotated_names.tsv',sep='\\t',index=None)\n"
   ]
  },
  {
   "cell_type": "markdown",
   "metadata": {},
   "source": [
    "# Filter based on Acceptance Score if release date is before 2018"
   ]
  },
  {
   "cell_type": "code",
   "execution_count": 45,
   "metadata": {},
   "outputs": [
    {
     "data": {
      "text/plain": [
       "(111, 11)"
      ]
     },
     "execution_count": 45,
     "metadata": {},
     "output_type": "execute_result"
    }
   ],
   "source": [
    "df_ontologies=pd.read_csv('../../data/xref/Xrefs_ontology_to_annotated_names.tsv',sep='\\t')\n",
    "df_ontologies_filtered=df_ontologies[(df_ontologies.acceptance_score>0.5)|(df_ontologies.first_release_year > 2018) ]\n",
    "df_ontologies_filtered.shape"
   ]
  },
  {
   "cell_type": "markdown",
   "metadata": {},
   "source": [
    "# Assign ranking based on coverage:\n"
   ]
  },
  {
   "cell_type": "code",
   "execution_count": 46,
   "metadata": {},
   "outputs": [
    {
     "name": "stderr",
     "output_type": "stream",
     "text": [
      "111it [00:00, 22080.52it/s]\n"
     ]
    }
   ],
   "source": [
    "df_ontologies_filtered=df_ontologies_filtered.sort_values(by='coverage',ascending=False)\n",
    "df_ontologies_filtered.reset_index(drop=True,inplace=True)\n",
    "\n",
    "for i,row in tqdm(df_ontologies_filtered.iterrows()):\n",
    "    df_ontologies_filtered.at[i,'covergae_rank']=i+1\n",
    "\n"
   ]
  },
  {
   "cell_type": "markdown",
   "metadata": {},
   "source": [
    "# Assign ranking based on overlap:\n"
   ]
  },
  {
   "cell_type": "code",
   "execution_count": 47,
   "metadata": {},
   "outputs": [
    {
     "name": "stderr",
     "output_type": "stream",
     "text": [
      "111it [00:00, 16681.04it/s]\n"
     ]
    }
   ],
   "source": [
    "df_ontologies_filtered=df_ontologies_filtered.sort_values(by='overlap',ascending=False)\n",
    "df_ontologies_filtered.reset_index(drop=True,inplace=True)\n",
    "\n",
    "for i,row in tqdm(df_ontologies_filtered.iterrows()):\n",
    "    df_ontologies_filtered.at[i,'overlap_rank']=i+1\n",
    "\n"
   ]
  },
  {
   "cell_type": "markdown",
   "metadata": {},
   "source": [
    "# Get min of two rankings"
   ]
  },
  {
   "cell_type": "code",
   "execution_count": 48,
   "metadata": {},
   "outputs": [
    {
     "name": "stderr",
     "output_type": "stream",
     "text": [
      "111it [00:00, 18606.34it/s]\n"
     ]
    }
   ],
   "source": [
    "for i,row in tqdm(df_ontologies_filtered.iterrows()):\n",
    "    df_ontologies_filtered.at[i,'rank']=min(row['covergae_rank'],row['overlap_rank'])"
   ]
  },
  {
   "cell_type": "markdown",
   "metadata": {},
   "source": [
    "# Sort based on final rank"
   ]
  },
  {
   "cell_type": "code",
   "execution_count": 49,
   "metadata": {},
   "outputs": [],
   "source": [
    "df_ontologies_filtered=df_ontologies_filtered.sort_values(by='rank')\n",
    "df_ontologies_filtered.reset_index(drop=True,inplace=True)\n"
   ]
  },
  {
   "cell_type": "code",
   "execution_count": 50,
   "metadata": {},
   "outputs": [
    {
     "data": {
      "text/html": [
       "<div>\n",
       "<style scoped>\n",
       "    .dataframe tbody tr th:only-of-type {\n",
       "        vertical-align: middle;\n",
       "    }\n",
       "\n",
       "    .dataframe tbody tr th {\n",
       "        vertical-align: top;\n",
       "    }\n",
       "\n",
       "    .dataframe thead th {\n",
       "        text-align: right;\n",
       "    }\n",
       "</style>\n",
       "<table border=\"1\" class=\"dataframe\">\n",
       "  <thead>\n",
       "    <tr style=\"text-align: right;\">\n",
       "      <th></th>\n",
       "      <th>acronym</th>\n",
       "      <th>ontology_name</th>\n",
       "      <th>acceptance_score</th>\n",
       "      <th>match_count</th>\n",
       "      <th>coverage</th>\n",
       "      <th>names</th>\n",
       "      <th>class_counts</th>\n",
       "      <th>number_of_releases</th>\n",
       "      <th>first_release_year</th>\n",
       "      <th>last_release_year</th>\n",
       "      <th>overlap</th>\n",
       "      <th>covergae_rank</th>\n",
       "      <th>overlap_rank</th>\n",
       "      <th>rank</th>\n",
       "    </tr>\n",
       "  </thead>\n",
       "  <tbody>\n",
       "    <tr>\n",
       "      <th>0</th>\n",
       "      <td>EXMO</td>\n",
       "      <td>Exercise Medicine Ontology</td>\n",
       "      <td>0.0</td>\n",
       "      <td>11</td>\n",
       "      <td>0.021611</td>\n",
       "      <td>energy#physical exercise#anaerobic exercise#ty...</td>\n",
       "      <td>407</td>\n",
       "      <td>2</td>\n",
       "      <td>2022</td>\n",
       "      <td>2022</td>\n",
       "      <td>0.027027</td>\n",
       "      <td>8.0</td>\n",
       "      <td>1.0</td>\n",
       "      <td>1.0</td>\n",
       "    </tr>\n",
       "    <tr>\n",
       "      <th>1</th>\n",
       "      <td>MDM</td>\n",
       "      <td>Mapping of Drug Names and MeSH 2022</td>\n",
       "      <td>0.0</td>\n",
       "      <td>117</td>\n",
       "      <td>0.229862</td>\n",
       "      <td>pesticide residues#physical activities#video g...</td>\n",
       "      <td>44789</td>\n",
       "      <td>5</td>\n",
       "      <td>2021</td>\n",
       "      <td>2022</td>\n",
       "      <td>0.002612</td>\n",
       "      <td>1.0</td>\n",
       "      <td>14.0</td>\n",
       "      <td>1.0</td>\n",
       "    </tr>\n",
       "    <tr>\n",
       "      <th>2</th>\n",
       "      <td>EMIF-AD</td>\n",
       "      <td>EMIF-AD ontology</td>\n",
       "      <td>0.0</td>\n",
       "      <td>8</td>\n",
       "      <td>0.015717</td>\n",
       "      <td>employment status#vegetables#income#alcohol us...</td>\n",
       "      <td>700</td>\n",
       "      <td>3</td>\n",
       "      <td>2020</td>\n",
       "      <td>2020</td>\n",
       "      <td>0.011429</td>\n",
       "      <td>15.0</td>\n",
       "      <td>2.0</td>\n",
       "      <td>2.0</td>\n",
       "    </tr>\n",
       "    <tr>\n",
       "      <th>3</th>\n",
       "      <td>BERO</td>\n",
       "      <td>Biological and Environmental Research Ontology</td>\n",
       "      <td>0.0</td>\n",
       "      <td>47</td>\n",
       "      <td>0.092338</td>\n",
       "      <td>pesticide residues#radiation exposure#dietary ...</td>\n",
       "      <td>392307</td>\n",
       "      <td>3</td>\n",
       "      <td>2022</td>\n",
       "      <td>2022</td>\n",
       "      <td>0.000120</td>\n",
       "      <td>2.0</td>\n",
       "      <td>28.0</td>\n",
       "      <td>2.0</td>\n",
       "    </tr>\n",
       "    <tr>\n",
       "      <th>4</th>\n",
       "      <td>INBIO</td>\n",
       "      <td>Invasion Biology Ontology</td>\n",
       "      <td>0.0</td>\n",
       "      <td>5</td>\n",
       "      <td>0.009823</td>\n",
       "      <td>urbanized area#energy#radiation#environmental ...</td>\n",
       "      <td>458</td>\n",
       "      <td>2</td>\n",
       "      <td>2022</td>\n",
       "      <td>2023</td>\n",
       "      <td>0.010917</td>\n",
       "      <td>30.0</td>\n",
       "      <td>3.0</td>\n",
       "      <td>3.0</td>\n",
       "    </tr>\n",
       "  </tbody>\n",
       "</table>\n",
       "</div>"
      ],
      "text/plain": [
       "   acronym                                   ontology_name  acceptance_score  \\\n",
       "0     EXMO                      Exercise Medicine Ontology               0.0   \n",
       "1      MDM             Mapping of Drug Names and MeSH 2022               0.0   \n",
       "2  EMIF-AD                                EMIF-AD ontology               0.0   \n",
       "3     BERO  Biological and Environmental Research Ontology               0.0   \n",
       "4    INBIO                       Invasion Biology Ontology               0.0   \n",
       "\n",
       "   match_count  coverage                                              names  \\\n",
       "0           11  0.021611  energy#physical exercise#anaerobic exercise#ty...   \n",
       "1          117  0.229862  pesticide residues#physical activities#video g...   \n",
       "2            8  0.015717  employment status#vegetables#income#alcohol us...   \n",
       "3           47  0.092338  pesticide residues#radiation exposure#dietary ...   \n",
       "4            5  0.009823  urbanized area#energy#radiation#environmental ...   \n",
       "\n",
       "   class_counts  number_of_releases  first_release_year  last_release_year  \\\n",
       "0           407                   2                2022               2022   \n",
       "1         44789                   5                2021               2022   \n",
       "2           700                   3                2020               2020   \n",
       "3        392307                   3                2022               2022   \n",
       "4           458                   2                2022               2023   \n",
       "\n",
       "    overlap  covergae_rank  overlap_rank  rank  \n",
       "0  0.027027            8.0           1.0   1.0  \n",
       "1  0.002612            1.0          14.0   1.0  \n",
       "2  0.011429           15.0           2.0   2.0  \n",
       "3  0.000120            2.0          28.0   2.0  \n",
       "4  0.010917           30.0           3.0   3.0  "
      ]
     },
     "execution_count": 50,
     "metadata": {},
     "output_type": "execute_result"
    }
   ],
   "source": [
    "df_ontologies_filtered.head()"
   ]
  },
  {
   "cell_type": "code",
   "execution_count": null,
   "metadata": {},
   "outputs": [],
   "source": [
    "df_ontologies_filtered=df_ontologies_filtered.sort_values(by='rank')\n"
   ]
  },
  {
   "cell_type": "markdown",
   "metadata": {},
   "source": [
    "# Remove manually checked irrelevent ontologies"
   ]
  },
  {
   "cell_type": "code",
   "execution_count": 54,
   "metadata": {},
   "outputs": [],
   "source": [
    "manually_removed_ontology_acronyms=['NXDX', 'CMDO', 'OLAM', 'PATEL', 'TIMEBANK', 'WC', 'BIPOM', 'BIOLINK', 'MIO', 'COVID19-IBO', 'DRPSNPTO', 'STMSO', 'PCAO', 'INBIO', 'CHEMROF', 'MODSCI', 'INTO', 'TOCWWE', 'HASCO', 'DRANPTO', 'NMDCO', 'COVID-19-ONT-PM', 'WWECA', 'ZP', 'PARTUMDO', 'MHMO', 'LEPAO', 'ICD10CM', 'VIDO', 'OCD', 'REGN_BRO', 'IDO-COVID-19', 'HIO', 'CLAO', 'INBANCIDO', 'MELO', 'ECOCORE', 'COID', 'COVID-19', 'INBIODIV', 'BKO', 'MDDB', 'EMIF-AD', 'FRMO', 'DPO', 'MCO', 'EPIO', 'ENVTHES', 'PSDO', 'XPO', 'AISM', 'AFO', 'FMA', 'FNS-H', 'ITO', 'OBI_IEE', 'ZONMW-CONTENT', 'NPOKB', 'ID-AMR', 'COB', 'FOVT', 'ICEO', 'INCENTIVE-VARS', 'INCENTIVE', 'ETHANC', 'ETANC', 'ODHT', 'CDPEO', 'I2SV', 'ADCAD', 'CSTD', 'HOME', 'M4M19-SUBS', 'CASE-BASE-ONTO']\n",
    "for i,ontology in df_ontologies_filtered.iterrows():\n",
    "    if ontology['acronym']  in manually_removed_ontology_acronyms:\n",
    "        df_ontologies_filtered=df_ontologies_filtered.drop([i])\n"
   ]
  },
  {
   "cell_type": "code",
   "execution_count": 56,
   "metadata": {},
   "outputs": [],
   "source": [
    "bioportal='https://bioportal.bioontology.org/ontologies/'\n",
    "for i,ontology in df_ontologies_filtered.iterrows():\n",
    "    df_ontologies_filtered.at[i,'url']=bioportal+ontology['acronym']\n"
   ]
  },
  {
   "cell_type": "code",
   "execution_count": 58,
   "metadata": {},
   "outputs": [],
   "source": [
    "df_ontologies_filtered.to_csv('../../data/xref/Xrefs_df_ontology_to_annotated_names_Ranked_Filtered_Checked.tsv',sep='\\t')\n",
    "# Final list of 50 ontologies is saved as 50_Selected Ontologies.tsv\n",
    "\n"
   ]
  }
 ],
 "metadata": {
  "kernelspec": {
   "display_name": "lsf",
   "language": "python",
   "name": "python3"
  },
  "language_info": {
   "codemirror_mode": {
    "name": "ipython",
    "version": 3
   },
   "file_extension": ".py",
   "mimetype": "text/x-python",
   "name": "python",
   "nbconvert_exporter": "python",
   "pygments_lexer": "ipython3",
   "version": "3.8.13"
  }
 },
 "nbformat": 4,
 "nbformat_minor": 2
}
