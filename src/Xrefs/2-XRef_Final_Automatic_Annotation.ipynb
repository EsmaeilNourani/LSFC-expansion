{
 "cells": [
  {
   "cell_type": "code",
   "execution_count": 8,
   "metadata": {},
   "outputs": [],
   "source": [
    "from pronto import Ontology,xref\n",
    "from collections import defaultdict\n",
    "import pandas as pd\n",
    "import numpy as np\n",
    "from tqdm import tqdm\n",
    "from urllib.parse import quote\n",
    "import urllib.request, urllib.error, urllib.parse\n",
    "import json\n",
    "import os\n",
    "from pprint import pprint\n",
    "import pickle\n",
    "import sys\n",
    "import importlib\n",
    "\n",
    "import pandas as pd\n",
    "from collections import defaultdict\n"
   ]
  },
  {
   "cell_type": "markdown",
   "metadata": {},
   "source": [
    "# Load LSFC \n"
   ]
  },
  {
   "cell_type": "code",
   "execution_count": 4,
   "metadata": {},
   "outputs": [],
   "source": [
    "import warnings\n",
    "warnings.filterwarnings(\"ignore\")\n",
    "module_path = os.path.abspath(os.path.join('../../'))\n",
    "if module_path not in sys.path:\n",
    "    sys.path.append(module_path+\"//utils\")\n",
    "\n",
    "import retrieve_LSFC\n",
    "\n",
    "import importlib\n",
    "# reload if library gets updated\n",
    "importlib.reload(retrieve_LSFC)\n",
    "\n",
    "### Load LSFC \n",
    "\n",
    "LSFC_file='../../LSFC/LSFC/LSFC.obo'\n",
    "id_to_name,name_to_id,id_to_synonyms,id_2_childs,id_2_parents=retrieve_LSFC.read_LSFC(LSFC_file)\n",
    "# Get names of 9 main LSF catgeories\n",
    "LSF_exisiting_names, LSF_Labels,LFIDs,categories=retrieve_LSFC.generate_lfid_categories_labels(LSFC_file)\n",
    "\n"
   ]
  },
  {
   "cell_type": "markdown",
   "metadata": {},
   "source": [
    "# General functions"
   ]
  },
  {
   "cell_type": "code",
   "execution_count": 6,
   "metadata": {},
   "outputs": [],
   "source": [
    "\n",
    "def make_query(term):\n",
    "    #term='\"'+term+'\"'\n",
    "    return quote(term)\n",
    "import urllib.request, urllib.error, urllib.parse\n",
    "import json\n",
    "import os\n",
    "from pprint import pprint\n",
    "\n",
    "REST_URL = \"http://data.bioontology.org\"\n",
    "API_KEY = \"\" \n",
    "\n",
    "\n",
    "\n",
    "def get_json(url):\n",
    "    opener = urllib.request.build_opener()\n",
    "    opener.addheaders = [('Authorization', 'apikey token=' + API_KEY)]\n",
    "    return json.loads(opener.open(url).read())\n",
    "\n"
   ]
  },
  {
   "cell_type": "markdown",
   "metadata": {},
   "source": [
    "# Read list of 50 manually shortlisted ontologies\n",
    "    * This is the final list of selected ontologies which are shortlisted by src/Xrefs/1-Ontology-selection.ipynb and then manually corrected"
   ]
  },
  {
   "cell_type": "code",
   "execution_count": 11,
   "metadata": {},
   "outputs": [
    {
     "data": {
      "text/html": [
       "<div>\n",
       "<style scoped>\n",
       "    .dataframe tbody tr th:only-of-type {\n",
       "        vertical-align: middle;\n",
       "    }\n",
       "\n",
       "    .dataframe tbody tr th {\n",
       "        vertical-align: top;\n",
       "    }\n",
       "\n",
       "    .dataframe thead th {\n",
       "        text-align: right;\n",
       "    }\n",
       "</style>\n",
       "<table border=\"1\" class=\"dataframe\">\n",
       "  <thead>\n",
       "    <tr style=\"text-align: right;\">\n",
       "      <th></th>\n",
       "      <th>acronym</th>\n",
       "      <th>ontology_name</th>\n",
       "      <th>acceptance_score</th>\n",
       "      <th>match_count</th>\n",
       "      <th>coverage</th>\n",
       "      <th>names</th>\n",
       "      <th>class_counts</th>\n",
       "      <th>number_of_releases</th>\n",
       "      <th>first_release_year</th>\n",
       "      <th>last_release_year</th>\n",
       "      <th>overlap</th>\n",
       "      <th>covergae_rank</th>\n",
       "      <th>overlap_rank</th>\n",
       "      <th>rank</th>\n",
       "      <th>url</th>\n",
       "    </tr>\n",
       "  </thead>\n",
       "  <tbody>\n",
       "    <tr>\n",
       "      <th>0</th>\n",
       "      <td>PCALION</td>\n",
       "      <td>Prostate Cancer Lifestyle Ontology</td>\n",
       "      <td>183.00</td>\n",
       "      <td>21.0</td>\n",
       "      <td>0.043299</td>\n",
       "      <td>income#dairy product#education#vitamin#egg#fru...</td>\n",
       "      <td>397.0</td>\n",
       "      <td>6.0</td>\n",
       "      <td>2019.0</td>\n",
       "      <td>2020.0</td>\n",
       "      <td>0.052897</td>\n",
       "      <td>13.0</td>\n",
       "      <td>1.0</td>\n",
       "      <td>1.0</td>\n",
       "      <td>https://bioportal.bioontology.org/ontologies/P...</td>\n",
       "    </tr>\n",
       "    <tr>\n",
       "      <th>1</th>\n",
       "      <td>MESH</td>\n",
       "      <td>Medical Subject Headings</td>\n",
       "      <td>887.00</td>\n",
       "      <td>138.0</td>\n",
       "      <td>0.284536</td>\n",
       "      <td>recreational drug#delta sleep#household activi...</td>\n",
       "      <td>349665.0</td>\n",
       "      <td>25.0</td>\n",
       "      <td>2009.0</td>\n",
       "      <td>2022.0</td>\n",
       "      <td>0.000395</td>\n",
       "      <td>1.0</td>\n",
       "      <td>38.0</td>\n",
       "      <td>1.0</td>\n",
       "      <td>https://bioportal.bioontology.org/ontologies/MESH</td>\n",
       "    </tr>\n",
       "    <tr>\n",
       "      <th>2</th>\n",
       "      <td>DILON</td>\n",
       "      <td>Dietary lifestyle ontology</td>\n",
       "      <td>0.19</td>\n",
       "      <td>11.0</td>\n",
       "      <td>0.022680</td>\n",
       "      <td>vitamin#meat#egg#malnutrition#legume#fruit#bev...</td>\n",
       "      <td>262.0</td>\n",
       "      <td>2.0</td>\n",
       "      <td>2021.0</td>\n",
       "      <td>2021.0</td>\n",
       "      <td>0.041985</td>\n",
       "      <td>24.0</td>\n",
       "      <td>2.0</td>\n",
       "      <td>2.0</td>\n",
       "      <td>https://bioportal.bioontology.org/ontologies/D...</td>\n",
       "    </tr>\n",
       "    <tr>\n",
       "      <th>3</th>\n",
       "      <td>MDM</td>\n",
       "      <td>Mapping of Drug Names and MeSH 2022</td>\n",
       "      <td>277.00</td>\n",
       "      <td>132.0</td>\n",
       "      <td>0.272165</td>\n",
       "      <td>recreational drug#delta sleep#household activi...</td>\n",
       "      <td>44789.0</td>\n",
       "      <td>5.0</td>\n",
       "      <td>2021.0</td>\n",
       "      <td>2022.0</td>\n",
       "      <td>0.002947</td>\n",
       "      <td>2.0</td>\n",
       "      <td>18.0</td>\n",
       "      <td>2.0</td>\n",
       "      <td>https://bioportal.bioontology.org/ontologies/MDM</td>\n",
       "    </tr>\n",
       "    <tr>\n",
       "      <th>4</th>\n",
       "      <td>EXMO</td>\n",
       "      <td>Exercise Medicine Ontology</td>\n",
       "      <td>0.00</td>\n",
       "      <td>11.0</td>\n",
       "      <td>0.022680</td>\n",
       "      <td>physical fitness#athlete#anaerobic exercise#sl...</td>\n",
       "      <td>407.0</td>\n",
       "      <td>2.0</td>\n",
       "      <td>2022.0</td>\n",
       "      <td>2022.0</td>\n",
       "      <td>0.027027</td>\n",
       "      <td>23.0</td>\n",
       "      <td>3.0</td>\n",
       "      <td>3.0</td>\n",
       "      <td>https://bioportal.bioontology.org/ontologies/EXMO</td>\n",
       "    </tr>\n",
       "  </tbody>\n",
       "</table>\n",
       "</div>"
      ],
      "text/plain": [
       "   acronym                        ontology_name  acceptance_score  \\\n",
       "0  PCALION   Prostate Cancer Lifestyle Ontology            183.00   \n",
       "1     MESH             Medical Subject Headings            887.00   \n",
       "2    DILON           Dietary lifestyle ontology              0.19   \n",
       "3      MDM  Mapping of Drug Names and MeSH 2022            277.00   \n",
       "4     EXMO           Exercise Medicine Ontology              0.00   \n",
       "\n",
       "   match_count  coverage                                              names  \\\n",
       "0         21.0  0.043299  income#dairy product#education#vitamin#egg#fru...   \n",
       "1        138.0  0.284536  recreational drug#delta sleep#household activi...   \n",
       "2         11.0  0.022680  vitamin#meat#egg#malnutrition#legume#fruit#bev...   \n",
       "3        132.0  0.272165  recreational drug#delta sleep#household activi...   \n",
       "4         11.0  0.022680  physical fitness#athlete#anaerobic exercise#sl...   \n",
       "\n",
       "   class_counts  number_of_releases  first_release_year  last_release_year  \\\n",
       "0         397.0                 6.0              2019.0             2020.0   \n",
       "1      349665.0                25.0              2009.0             2022.0   \n",
       "2         262.0                 2.0              2021.0             2021.0   \n",
       "3       44789.0                 5.0              2021.0             2022.0   \n",
       "4         407.0                 2.0              2022.0             2022.0   \n",
       "\n",
       "    overlap  covergae_rank  overlap_rank  rank  \\\n",
       "0  0.052897           13.0           1.0   1.0   \n",
       "1  0.000395            1.0          38.0   1.0   \n",
       "2  0.041985           24.0           2.0   2.0   \n",
       "3  0.002947            2.0          18.0   2.0   \n",
       "4  0.027027           23.0           3.0   3.0   \n",
       "\n",
       "                                                 url  \n",
       "0  https://bioportal.bioontology.org/ontologies/P...  \n",
       "1  https://bioportal.bioontology.org/ontologies/MESH  \n",
       "2  https://bioportal.bioontology.org/ontologies/D...  \n",
       "3   https://bioportal.bioontology.org/ontologies/MDM  \n",
       "4  https://bioportal.bioontology.org/ontologies/EXMO  "
      ]
     },
     "execution_count": 11,
     "metadata": {},
     "output_type": "execute_result"
    }
   ],
   "source": [
    "ontologies=pd.read_csv('../../data/xref/50_Selected Ontologies.tsv',sep='\\t')\n",
    "ontologies.head()"
   ]
  },
  {
   "cell_type": "code",
   "execution_count": 12,
   "metadata": {},
   "outputs": [],
   "source": [
    "selected_ontologies=','.join(list(ontologies.acronym))"
   ]
  },
  {
   "cell_type": "markdown",
   "metadata": {},
   "source": [
    "# Search for overlapping names in target ontologies"
   ]
  },
  {
   "cell_type": "code",
   "execution_count": 13,
   "metadata": {},
   "outputs": [
    {
     "name": "stderr",
     "output_type": "stream",
     "text": [
      "7324it [2:26:36,  1.20s/it]\n"
     ]
    }
   ],
   "source": [
    "#dict_ontology_to_annotated_all_names=defaultdict(list)\n",
    "\n",
    "columns = ['name','LFID', 'ontology_acronym', 'xref_id', 'xref_definition']\n",
    "annotations = pd.DataFrame(columns=columns)\n",
    "\n",
    "for i,name in tqdm(enumerate(LSF_exisiting_names)):\n",
    "    results=get_json('https://data.bioontology.org/search?q=' + make_query(name)+'&pagesize=500&ontologies='+selected_ontologies+'&include_properties=TRUE&include_views=TRUE&includeObsolete=FALSE&require_definition=false&exact_match=true&categories=&suggest=TRUE')\n",
    "    LFID=LFIDs[i]\n",
    "    for result in results['collection']:\n",
    "        ontology_acronym=result['links']['ontology'].split('https://data.bioontology.org/ontologies/')[1]   \n",
    "        if 'definition' in result :\n",
    "            definition_column = result['definition']\n",
    "            xref_definition = definition_column[0]\n",
    "        else:\n",
    "            xref_definition=''\n",
    "        #dict_ontology_to_annotated_all_names[ontology_acronym].append(name)\n",
    "\n",
    "        row_data={'name':name, 'LFID':LFID, 'ontology_acronym':ontology_acronym, 'xref_id': result['@id'], 'xref_definition':xref_definition}\n",
    "\n",
    "        annotations = annotations.append(row_data, ignore_index=True)\n"
   ]
  },
  {
   "cell_type": "code",
   "execution_count": 14,
   "metadata": {},
   "outputs": [
    {
     "data": {
      "text/plain": [
       "(9006, 5)"
      ]
     },
     "execution_count": 14,
     "metadata": {},
     "output_type": "execute_result"
    }
   ],
   "source": [
    "annotations.shape"
   ]
  },
  {
   "cell_type": "code",
   "execution_count": 15,
   "metadata": {},
   "outputs": [],
   "source": [
    "annotations.to_csv('../../data/xref/Xrefs_annotated_names_Jan_2014.tsv',sep='\\t',index=None)\n"
   ]
  },
  {
   "cell_type": "markdown",
   "metadata": {},
   "source": [
    "# Add Xrefs to LSFC"
   ]
  },
  {
   "cell_type": "code",
   "execution_count": 68,
   "metadata": {},
   "outputs": [],
   "source": [
    "from pronto import Ontology,xref\n",
    "from pronto.xref import Xref\n",
    "\n",
    "LSFC_file='../../LSFC/LSFC/LSFC.obo'\n",
    "\n",
    "LSFC = Ontology(LSFC_file)\n",
    "\n",
    "\n",
    "for i, row in annotations.iterrows():\n",
    "    LFID=row['LFID']\n",
    "    x_ref=Xref(id=row['xref_id'],description=row['xref_definition'])\n",
    "    LSFC._terms.entities[LFID].xrefs.add(x_ref)\n",
    " \n"
   ]
  },
  {
   "cell_type": "markdown",
   "metadata": {},
   "source": [
    "# Save to LSFC"
   ]
  },
  {
   "cell_type": "code",
   "execution_count": 70,
   "metadata": {},
   "outputs": [],
   "source": [
    "\n",
    "with open(LSFC_file, \"wb\") as f:\n",
    "    LSFC.dump(f, format=\"obo\")\n"
   ]
  },
  {
   "cell_type": "code",
   "execution_count": 17,
   "metadata": {},
   "outputs": [
    {
     "data": {
      "text/html": [
       "<div>\n",
       "<style scoped>\n",
       "    .dataframe tbody tr th:only-of-type {\n",
       "        vertical-align: middle;\n",
       "    }\n",
       "\n",
       "    .dataframe tbody tr th {\n",
       "        vertical-align: top;\n",
       "    }\n",
       "\n",
       "    .dataframe thead th {\n",
       "        text-align: right;\n",
       "    }\n",
       "</style>\n",
       "<table border=\"1\" class=\"dataframe\">\n",
       "  <thead>\n",
       "    <tr style=\"text-align: right;\">\n",
       "      <th></th>\n",
       "      <th>name</th>\n",
       "      <th>LFID</th>\n",
       "      <th>ontology_acronym</th>\n",
       "      <th>xref_id</th>\n",
       "      <th>xref_definition</th>\n",
       "    </tr>\n",
       "  </thead>\n",
       "  <tbody>\n",
       "    <tr>\n",
       "      <th>0</th>\n",
       "      <td>nutrition</td>\n",
       "      <td>LFID:0000003</td>\n",
       "      <td>LOINC</td>\n",
       "      <td>http://purl.bioontology.org/ontology/LNC/MTHU0...</td>\n",
       "      <td></td>\n",
       "    </tr>\n",
       "    <tr>\n",
       "      <th>1</th>\n",
       "      <td>nutrition</td>\n",
       "      <td>LFID:0000003</td>\n",
       "      <td>LOINC</td>\n",
       "      <td>http://purl.bioontology.org/ontology/LNC/LP172...</td>\n",
       "      <td></td>\n",
       "    </tr>\n",
       "    <tr>\n",
       "      <th>2</th>\n",
       "      <td>nutrition</td>\n",
       "      <td>LFID:0000003</td>\n",
       "      <td>SNOMEDCT</td>\n",
       "      <td>http://purl.bioontology.org/ontology/SNOMEDCT/...</td>\n",
       "      <td></td>\n",
       "    </tr>\n",
       "    <tr>\n",
       "      <th>3</th>\n",
       "      <td>nutrition</td>\n",
       "      <td>LFID:0000003</td>\n",
       "      <td>MEDLINEPLUS</td>\n",
       "      <td>http://purl.bioontology.org/ontology/MEDLINEPL...</td>\n",
       "      <td>&lt;p&gt;Food provides the energy and nutrients you ...</td>\n",
       "    </tr>\n",
       "    <tr>\n",
       "      <th>4</th>\n",
       "      <td>nutrition</td>\n",
       "      <td>LFID:0000003</td>\n",
       "      <td>CRISP</td>\n",
       "      <td>http://purl.bioontology.org/ontology/CSP/2116-...</td>\n",
       "      <td>science of food, the nutrients and other subst...</td>\n",
       "    </tr>\n",
       "  </tbody>\n",
       "</table>\n",
       "</div>"
      ],
      "text/plain": [
       "        name          LFID ontology_acronym  \\\n",
       "0  nutrition  LFID:0000003            LOINC   \n",
       "1  nutrition  LFID:0000003            LOINC   \n",
       "2  nutrition  LFID:0000003         SNOMEDCT   \n",
       "3  nutrition  LFID:0000003      MEDLINEPLUS   \n",
       "4  nutrition  LFID:0000003            CRISP   \n",
       "\n",
       "                                             xref_id  \\\n",
       "0  http://purl.bioontology.org/ontology/LNC/MTHU0...   \n",
       "1  http://purl.bioontology.org/ontology/LNC/LP172...   \n",
       "2  http://purl.bioontology.org/ontology/SNOMEDCT/...   \n",
       "3  http://purl.bioontology.org/ontology/MEDLINEPL...   \n",
       "4  http://purl.bioontology.org/ontology/CSP/2116-...   \n",
       "\n",
       "                                     xref_definition  \n",
       "0                                                     \n",
       "1                                                     \n",
       "2                                                     \n",
       "3  <p>Food provides the energy and nutrients you ...  \n",
       "4  science of food, the nutrients and other subst...  "
      ]
     },
     "execution_count": 17,
     "metadata": {},
     "output_type": "execute_result"
    }
   ],
   "source": [
    "annotations.head()"
   ]
  },
  {
   "cell_type": "markdown",
   "metadata": {},
   "source": [
    "# Visualization"
   ]
  },
  {
   "cell_type": "code",
   "execution_count": 18,
   "metadata": {},
   "outputs": [],
   "source": [
    "grouped_df = annotations.groupby('ontology_acronym').size().reset_index(name='counts')\n",
    "grouped_df=grouped_df.sort_values(by='counts',ascending=False)\n",
    "df=grouped_df.iloc[:20]"
   ]
  },
  {
   "cell_type": "code",
   "execution_count": 37,
   "metadata": {},
   "outputs": [
    {
     "data": {
      "image/png": "[encoded data removed]",
      "text/plain": [
       "<Figure size 432x288 with 1 Axes>"
      ]
     },
     "metadata": {},
     "output_type": "display_data"
    }
   ],
   "source": [
    "import seaborn as sns\n",
    "import matplotlib.pyplot as plt\n",
    "\n",
    "# Assuming LSFC_size is the total size you want to use for percentage calculation\n",
    "# Replace LSFC_size with the actual value or variable that contains the total size\n",
    "\n",
    "# Calculate percentage\n",
    "df['percentage'] = (df['counts'] / LSFC_size) * 100\n",
    "\n",
    "sns.set_theme(style=\"white\")\n",
    "\n",
    "# Initialize the matplotlib figure\n",
    "# f, ax = plt.subplots(figsize=(6, 15))\n",
    "\n",
    "# Plot the total crashes\n",
    "sns.set_color_codes(\"pastel\")\n",
    "ax = sns.barplot(x=\"percentage\", y=\"ontology_acronym\", data=df, label=\"\", color=\"r\")\n",
    "\n",
    "container = ax.containers[0]\n",
    "# Label the bars with percentage values\n",
    "ax.bar_label(container, labels=[f'{x:,.2f}%' for x in container.datavalues])\n",
    "\n",
    "# Remove x-axis labels (if desired)\n",
    "ax.set(xticklabels=[])\n",
    "\n",
    "# Set axis labels and limits\n",
    "ax.set(xlim=(0, 20), ylabel=\"Ontology\", xlabel=\"Overlap percentage with LSFC\")\n",
    "sns.despine(left=True, bottom=True)\n",
    "\n",
    "# Save the plot\n",
    "plt.savefig('../../plots/Xrefs_ontology_overlaps_with_LSFC_percentage.png',bbox_inches=\"tight\", dpi=300)\n"
   ]
  },
  {
   "cell_type": "code",
   "execution_count": null,
   "metadata": {},
   "outputs": [],
   "source": []
  }
 ],
 "metadata": {
  "kernelspec": {
   "display_name": "lsf",
   "language": "python",
   "name": "python3"
  },
  "language_info": {
   "codemirror_mode": {
    "name": "ipython",
    "version": 3
   },
   "file_extension": ".py",
   "mimetype": "text/x-python",
   "name": "python",
   "nbconvert_exporter": "python",
   "pygments_lexer": "ipython3",
   "version": "3.8.13"
  },
  "orig_nbformat": 4
 },
 "nbformat": 4,
 "nbformat_minor": 2
}
